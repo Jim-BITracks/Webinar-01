{
    "metadata": {
        "kernelspec": {
            "name": "python3",
            "display_name": "Python 3"
        },
        "language_info": {
            "name": "python",
            "version": "3.8.5",
            "mimetype": "text/x-python",
            "codemirror_mode": {
                "name": "ipython",
                "version": 3
            },
            "pygments_lexer": "ipython3",
            "nbconvert_exporter": "python",
            "file_extension": ".py"
        }
    },
    "nbformat_minor": 2,
    "nbformat": 4,
    "cells": [
        {
            "cell_type": "markdown",
            "source": [
                "# Build eltSnap Projects and Packages in ADS\r\n",
                "\r\n",
                "![](resources\\eltsnap.png)\r\n",
                "\r\n",
                "> This Demo uses the \"BimlSnap\" Extension for Azure Data Studio, which can be Downloaded from: **bitracks.com**\r\n",
                "\r\n",
                "[eltSnap (video)](https://youtu.be/zGe7-WdiD6c)\r\n",
                "\r\n",
                "- Fully Database Driven (Open Source)\r\n",
                "- Designed for Code Reuse\r\n",
                "- Code Generators for Fact & Dimension Tables (T-SQL and snowSQL)\r\n",
                "- Self Documenting (HTML)\r\n",
                "- Customizable Framework with Alerts and Power BI Dashboard\r\n",
                "- Extension is **FREE** for Current Release\r\n",
                "\r\n",
                "## Step 1 - Create a Project\r\n",
                "\r\n",
                "### Using the Extension:\r\n",
                "\r\n",
                "1. Press F1, Select **eltSnap: Open Forms**\r\n",
                "2. Select **Project Model** and Click **Clone**\r\n",
                "\r\n",
                "### Using a Python Snippet:\r\n",
                "\r\n",
                "1. In Code Cell type **eltCreateProj**\r\n",
                "2. Enter Parameter Values and Click the **Run** button"
            ],
            "metadata": {
                "azdata_cell_guid": "122752f4-a679-48e6-ac19-6f0dfff76f6d"
            }
        },
        {
            "cell_type": "code",
            "source": [
                "from eltsnap.eltProject import *\r\n",
                "create_project('PC7', 'eltsnap_v2', 'Demo4', 'Framework Logging')"
            ],
            "metadata": {
                "azdata_cell_guid": "7564936a-3986-4adf-9372-998d9eeac634",
                "tags": []
            },
            "outputs": [],
            "execution_count": null
        },
        {
            "cell_type": "markdown",
            "source": [
                "## Step 2 - Create Connections\n",
                "\n",
                "### Methods that can be used to Create a Connection:\n",
                "\n",
                "-   ADS Extension (includes '**Sync**' Option)\n",
                "-   ADS Python Snippet (INSERT Statement)\n",
                "-   SQL Edit Window\n",
                "\n",
                "### Using the Extension (Sync Feature):\n",
                "\n",
                "1.  Press F1, Select **eltSnap: Open Forms**\n",
                "2.  Click **Connections**, and then **New Connection**\n",
                "\n",
                "### Using a Python Snippet:\n",
                "\n",
                "1.  In a Code cell type: **eltcrcon**\n",
                "2.  Complete Parameter Value Prompts, and Click the **Run** button"
            ],
            "metadata": {
                "azdata_cell_guid": "a9f7ad99-a82c-4034-b24c-b6bd859081c4"
            }
        },
        {
            "cell_type": "code",
            "source": [
                ""
            ],
            "metadata": {
                "azdata_cell_guid": "802a70e6-80df-406b-94ad-2338f42aeefc",
                "tags": []
            },
            "outputs": [],
            "execution_count": null
        },
        {
            "cell_type": "markdown",
            "source": [
                "## Step 3 - Create Dataflow Package\n",
                "\n",
                "### Using the Extension (Sync Feature):\n",
                "\n",
                "1.  Press F1, Select **eltSnap: Open Forms**\n",
                "2.  Click **Package**, and then **New Dataflow**\n",
                "\n",
                "### Using a Python Snippet:\n",
                "\n",
                "1.  In a Code cell type: **eltcrdataflow**\n",
                "2.  Complete Parameter Value Prompts, and Click the **Run** button"
            ],
            "metadata": {
                "azdata_cell_guid": "311b068d-a7b7-4a96-a251-733b834a7f22"
            }
        },
        {
            "cell_type": "code",
            "source": [
                ""
            ],
            "metadata": {
                "azdata_cell_guid": "1cf0f859-ee8f-4ae7-a372-fef05749e0ab"
            },
            "outputs": [],
            "execution_count": null
        },
        {
            "cell_type": "markdown",
            "source": [
                "## Step 4 - Run the Demo Project\n",
                "\n",
                "### Using the Extension (Sync Feature):\n",
                "\n",
                "1.  Press F1, Select **eltSnap: Open Forms**\n",
                "2.  Select the **Project**, and click **Run** (Command will appear in the Terminal Window)\n",
                "3.  Can monitor with the Control Panel (F1, **eltSnap: Control Panel**)"
            ],
            "metadata": {
                "azdata_cell_guid": "e2c0a2ba-fdd0-4e64-ad37-5f1577310aeb"
            }
        }
    ]
}