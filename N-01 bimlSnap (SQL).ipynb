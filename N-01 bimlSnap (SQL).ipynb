{
    "metadata": {
        "kernelspec": {
            "name": "SQL",
            "display_name": "SQL",
            "language": "sql"
        },
        "language_info": {
            "name": "sql",
            "version": ""
        }
    },
    "nbformat_minor": 2,
    "nbformat": 4,
    "cells": [
        {
            "cell_type": "markdown",
            "source": [
                "![](resources\\bitracks.png)\n",
                "\n",
                "# Webinar: Revolutionize Your Data Integration Practices\n",
                "\n",
                "## November 11, 2020\n",
                "\n",
                "# Topics - Use Azure Data Studio to:\n",
                "\n",
                "-   Build SSIS Projects and Packages for Visual Studio\n",
                "-   Build and Run Azure Data Studio \"Native ELT\" Packages\n",
                "-   Build and Deploy \"Azure Data Factory\" Pipelines\n",
                "\n",
                "![](resources\\options.png)\n",
                "\n",
                "# The Back Story of BI Tracks\n",
                "\n",
                "-   Built Dozens of Data Warehouses for Enterprise Clients\n",
                "-   All too Common to get bogged down in the ELT/ETL\n",
                "-   To keep Clients happy, we had to find a Better Way (i.e. Automation)\n",
                "\n",
                "# Why Azure Data Studio\n",
                "\n",
                "-   Fork of VS Code - Designed for Database Professionals\n",
                "-   Open Source, Cross Platform\n",
                "-   Designed for Extensiblilty\n",
                "-   Integrated Jupyter Notebooks\n",
                "-   Customizable Dashboards and Visualizations\n",
                "-   Integrated Terminal Window\n",
                "\n",
                "# EL**T** instead of E**T**L\n",
                "\n",
                "All Examples in this Presentation are based using an Extract-Load-Transform (EL**T**) Data Integration Paradigm\n",
                "\n",
                "![](resources\\elt-vs-etl.png)\n",
                "\n",
                "[A Pizza Comparison (Video)](https://youtu.be/kJcd6xVK2lY)\n",
                "\n",
                "-   Transformations are Pure SQL (the True Language of Databases)\n",
                "-   Performance & scalability in the Cloud (use 5x, 10x or 100x **Compute** Power when needed)\n",
                "-   Able to Leverage \"Stored Procedures\" (Manage your code in the Database)\n",
                "-   Avoid Vendor-Lock (SQL code is eaiser to Migrate than E**T**L Solutions)\n",
                "\n",
                "# Build SSIS Projects and Packages for Visual Studio in ADS\n",
                "\n",
                "![](resources\\visual-studio.png)\n",
                "\n",
                "> This Demo uses the \"BimlSnap\" Extension for Azure Data Studio, which can be Downloaded from: **bitracks.com**\n",
                "\n",
                "[BimlSnap for ADS Features: (video)](https://youtu.be/6iBYOScaIOE)\n",
                "\n",
                "-   Fully Database Driven (Open Source)\n",
                "-   Select for XML to create Biml\n",
                "-   Use [BimlExpress (link)](https://varigence.com/bimlexpress) to convert Biml to SSIS Packages\n",
                "-   Provides Code Reuse in SSIS\n",
                "-   Code Generators for Fact & Dimension Tables (T-SQL and snowSQL)\n",
                "-   Self Documenting (HTML)\n",
                "-   Customizable Framework with Alerts and Power BI Dashboard\n",
                "-   Extension is **FREE** for Current Release\n",
                "\n",
                "## Step 1 - Create a Project\n",
                "\n",
                "### Using the Extension:\n",
                "\n",
                "1.  Press F1, Select **bimlSnap: Open Forms**\n",
                "2.  Select **Project Model** and Click **Clone**\n",
                "\n",
                "### Using a SQL Snippet:\n",
                "\n",
                "1.  Attach Notebook to a **bimlsnap** database Connection\n",
                "2.  In Code Cell type **bimlCreateProj**"
            ],
            "metadata": {
                "azdata_cell_guid": "cf6e552e-1301-40c9-a325-21a936c2362e"
            }
        },
        {
            "cell_type": "code",
            "source": [
                "-- create 'Demo4'project with snippet\r\n",
                "\r\n",
                "INSERT [biml].[project] ([project_name],[build_template_group]) VALUES ('Demo4','No Alerts')"
            ],
            "metadata": {
                "azdata_cell_guid": "17b39f44-88d7-4ca1-acc5-8ca975658766",
                "tags": []
            },
            "outputs": [],
            "execution_count": null
        },
        {
            "cell_type": "code",
            "source": [
                "-- Show bimlsnap projects \r\n",
                "\r\n",
                "SELECT * FROM [biml].[project]"
            ],
            "metadata": {
                "azdata_cell_guid": "69d02bbe-4581-4823-adb1-caaf103da4e2",
                "tags": []
            },
            "outputs": [],
            "execution_count": null
        },
        {
            "cell_type": "markdown",
            "source": [
                "## Step 2 - Create Connections\n",
                "\n",
                "### Many methods can be used to insert a connection:\n",
                "\n",
                "-   ADS Extension (includes '**Sync**' Option)\n",
                "-   ADS Snippet (INSERT Statement)\n",
                "-   SQL Edit Window\n",
                "\n",
                "### Using the Extension (Sync Feature):\n",
                "\n",
                "1.  Press F1, Select **bimlSnap: Open Forms**\n",
                "2.  Click **New Project**"
            ],
            "metadata": {
                "azdata_cell_guid": "0c384bb4-4885-41e7-bc57-e8cae6f2b619"
            }
        },
        {
            "cell_type": "code",
            "source": [
                "-- List connections in bimlsnap_v2 database\r\n",
                "\r\n",
                "SELECT * FROM [bimlsnap_v2].[biml].[connection];"
            ],
            "metadata": {
                "azdata_cell_guid": "d600144f-36ab-411f-8c10-0bfafb1f4056",
                "tags": []
            },
            "outputs": [],
            "execution_count": null
        },
        {
            "cell_type": "markdown",
            "source": [
                "## All Biml is Generated using \"SELECT ... FOR XML\""
            ],
            "metadata": {
                "azdata_cell_guid": "a521c2ef-9dae-4ac7-b3d7-3dd1bf8aec9c"
            }
        },
        {
            "cell_type": "code",
            "source": [
                "-- Transform Connections to Biml (XML)\r\n",
                "\r\n",
                "SELECT c.[connection_name] AS '@Name'\r\n",
                "\t\t, [biml].[Data Connect String] (c.[connection_name], '') AS '@ConnectionString'\r\n",
                "\t\t, 'true' AS '@CreateInProject'\r\n",
                "\t\t, 'false' AS '@CreatePackageConfiguration'\r\n",
                "    FROM [biml].[connection] c/*Package Name: Data Flow - copy - dbo.d_time */ \r\n",
                "FOR XML PATH ('Connection'), root ('Connections'), type;"
            ],
            "metadata": {
                "azdata_cell_guid": "3e108d55-4cd9-44dc-a80f-63859a62d751"
            },
            "outputs": [
                {
                    "output_type": "display_data",
                    "data": {
                        "text/html": "(1 row affected)"
                    },
                    "metadata": {}
                },
                {
                    "output_type": "display_data",
                    "data": {
                        "text/html": "Total execution time: 00:00:00.022"
                    },
                    "metadata": {}
                },
                {
                    "output_type": "execute_result",
                    "execution_count": 4,
                    "data": {
                        "application/vnd.dataresource+json": {
                            "schema": {
                                "fields": [
                                    {
                                        "name": "(No column name)"
                                    }
                                ]
                            },
                            "data": [
                                {
                                    "0": "<Connections><Connection Name=\"ads_json\" ConnectionString=\"Data Source=PC7;Initial Catalog=ads_json;Provider=SQL Server Native Client 11.0;Integrated Security=SSPI;Auto Translate=False;\" CreateInProject=\"true\" CreatePackageConfiguration=\"false\" /><Connection Name=\"bimlsnap_v2\" ConnectionString=\"Data Source=localhost;Initial Catalog=bimlsnap_v2;Provider=SQLNCLI11;Integrated Security=SSPI;Auto Translate=False;\" CreateInProject=\"true\" CreatePackageConfiguration=\"false\" /><Connection Name=\"bimlsnap_v2 (PC7)\" ConnectionString=\"Data Source=PC7;Initial Catalog=bimlsnap_v2;Provider=SQL Server Native Client 11.0;Integrated Security=SSPI;Auto Translate=False;\" CreateInProject=\"true\" CreatePackageConfiguration=\"false\" /><Connection Name=\"bimlsnap_v2 (SRV6)\" ConnectionString=\"Data Source=SRV6;Initial Catalog=bimlsnap_v2;Provider=SQL Server Native Client 11.0;Integrated Security=SSPI;Auto Translate=False;\" CreateInProject=\"true\" CreatePackageConfiguration=\"false\" /><Connection Name=\"bimlsnap_v2_df\" ConnectionString=\"Data Source=SRV6;Initial Catalog=bimlsnap_v2_df;Provider=SQL Server Native Client 11.0;Integrated Security=SSPI;Auto Translate=False;\" CreateInProject=\"true\" CreatePackageConfiguration=\"false\" /><Connection Name=\"car_crash\" ConnectionString=\"Data Source=PC7;Initial Catalog=car_crash;Provider=SQL Server Native Client 11.0;Integrated Security=SSPI;Auto Translate=False;\" CreateInProject=\"true\" CreatePackageConfiguration=\"false\" /><Connection Name=\"ELT_Framework\" ConnectionString=\"Data Source=PC7;Initial Catalog=ELT_Framework;Provider=SQL Server Native Client 11.0;Integrated Security=SSPI;Auto Translate=False;\" CreateInProject=\"true\" CreatePackageConfiguration=\"false\" /><Connection Name=\"eltsnap_v2\" ConnectionString=\"Data Source=SRV6;Initial Catalog=eltsnap_v2;Provider=SQL Server Native Client 11.0;Integrated Security=SSPI;Auto Translate=False;\" CreateInProject=\"true\" CreatePackageConfiguration=\"false\" /><Connection Name=\"eltsnap_v2_samples\" ConnectionString=\"Data Source=PC7;Initial Catalog=eltsnap_v2_samples;Provider=SQL Server Native Client 11.0;Integrated Security=SSPI;Auto Translate=False;\" CreateInProject=\"true\" CreatePackageConfiguration=\"false\" /><Connection Name=\"notebook\" ConnectionString=\"Data Source=SRV6;Initial Catalog=notebook;Provider=SQL Server Native Client 11.0;Integrated Security=SSPI;Auto Translate=False;\" CreateInProject=\"true\" CreatePackageConfiguration=\"false\" /><Connection Name=\"SQL_Server\" ConnectionString=\"Data Source=localhost;Initial Catalog=master;Provider=SQLNCLI11;Integrated Security=SSPI;Auto Translate=False;\" CreateInProject=\"true\" CreatePackageConfiguration=\"false\" /><Connection Name=\"SSIS_Data\" ConnectionString=\"Data Source=localhost;Initial Catalog=SSIS_Data;Provider=SQLNCLI11;Integrated Security=SSPI;Auto Translate=False;\" CreateInProject=\"true\" CreatePackageConfiguration=\"false\" /><Connection Name=\"SSIS_Data (SRV6)\" ConnectionString=\"Data Source=SRV6;Initial Catalog=SSIS_Data;Provider=SQL Server Native Client 11.0;Integrated Security=SSPI;Auto Translate=False;\" CreateInProject=\"true\" CreatePackageConfiguration=\"false\" /><Connection Name=\"test_dst\" ConnectionString=\"Data Source=PC7;Initial Catalog=test_dst;Provider=SQL Server Native Client 11.0;Integrated Security=SSPI;Auto Translate=False;\" CreateInProject=\"true\" CreatePackageConfiguration=\"false\" /><Connection Name=\"test_src\" ConnectionString=\"Data Source=SRV6;Initial Catalog=test_src;Provider=SQL Server Native Client 11.0;Integrated Security=SSPI;Auto Translate=False;\" CreateInProject=\"true\" CreatePackageConfiguration=\"false\" /></Connections>"
                                }
                            ]
                        },
                        "text/html": "<table><tr><th>(No column name)</th></tr><tr><td>&lt;Connections&gt;&lt;Connection Name=&quot;ads_json&quot; ConnectionString=&quot;Data Source=PC7;Initial Catalog=ads_json;Provider=SQL Server Native Client 11.0;Integrated Security=SSPI;Auto Translate=False;&quot; CreateInProject=&quot;true&quot; CreatePackageConfiguration=&quot;false&quot; /&gt;&lt;Connection Name=&quot;bimlsnap_v2&quot; ConnectionString=&quot;Data Source=localhost;Initial Catalog=bimlsnap_v2;Provider=SQLNCLI11;Integrated Security=SSPI;Auto Translate=False;&quot; CreateInProject=&quot;true&quot; CreatePackageConfiguration=&quot;false&quot; /&gt;&lt;Connection Name=&quot;bimlsnap_v2 (PC7)&quot; ConnectionString=&quot;Data Source=PC7;Initial Catalog=bimlsnap_v2;Provider=SQL Server Native Client 11.0;Integrated Security=SSPI;Auto Translate=False;&quot; CreateInProject=&quot;true&quot; CreatePackageConfiguration=&quot;false&quot; /&gt;&lt;Connection Name=&quot;bimlsnap_v2 (SRV6)&quot; ConnectionString=&quot;Data Source=SRV6;Initial Catalog=bimlsnap_v2;Provider=SQL Server Native Client 11.0;Integrated Security=SSPI;Auto Translate=False;&quot; CreateInProject=&quot;true&quot; CreatePackageConfiguration=&quot;false&quot; /&gt;&lt;Connection Name=&quot;bimlsnap_v2_df&quot; ConnectionString=&quot;Data Source=SRV6;Initial Catalog=bimlsnap_v2_df;Provider=SQL Server Native Client 11.0;Integrated Security=SSPI;Auto Translate=False;&quot; CreateInProject=&quot;true&quot; CreatePackageConfiguration=&quot;false&quot; /&gt;&lt;Connection Name=&quot;car_crash&quot; ConnectionString=&quot;Data Source=PC7;Initial Catalog=car_crash;Provider=SQL Server Native Client 11.0;Integrated Security=SSPI;Auto Translate=False;&quot; CreateInProject=&quot;true&quot; CreatePackageConfiguration=&quot;false&quot; /&gt;&lt;Connection Name=&quot;ELT_Framework&quot; ConnectionString=&quot;Data Source=PC7;Initial Catalog=ELT_Framework;Provider=SQL Server Native Client 11.0;Integrated Security=SSPI;Auto Translate=False;&quot; CreateInProject=&quot;true&quot; CreatePackageConfiguration=&quot;false&quot; /&gt;&lt;Connection Name=&quot;eltsnap_v2&quot; ConnectionString=&quot;Data Source=SRV6;Initial Catalog=eltsnap_v2;Provider=SQL Server Native Client 11.0;Integrated Security=SSPI;Auto Translate=False;&quot; CreateInProject=&quot;true&quot; CreatePackageConfiguration=&quot;false&quot; /&gt;&lt;Connection Name=&quot;eltsnap_v2_samples&quot; ConnectionString=&quot;Data Source=PC7;Initial Catalog=eltsnap_v2_samples;Provider=SQL Server Native Client 11.0;Integrated Security=SSPI;Auto Translate=False;&quot; CreateInProject=&quot;true&quot; CreatePackageConfiguration=&quot;false&quot; /&gt;&lt;Connection Name=&quot;notebook&quot; ConnectionString=&quot;Data Source=SRV6;Initial Catalog=notebook;Provider=SQL Server Native Client 11.0;Integrated Security=SSPI;Auto Translate=False;&quot; CreateInProject=&quot;true&quot; CreatePackageConfiguration=&quot;false&quot; /&gt;&lt;Connection Name=&quot;SQL_Server&quot; ConnectionString=&quot;Data Source=localhost;Initial Catalog=master;Provider=SQLNCLI11;Integrated Security=SSPI;Auto Translate=False;&quot; CreateInProject=&quot;true&quot; CreatePackageConfiguration=&quot;false&quot; /&gt;&lt;Connection Name=&quot;SSIS_Data&quot; ConnectionString=&quot;Data Source=localhost;Initial Catalog=SSIS_Data;Provider=SQLNCLI11;Integrated Security=SSPI;Auto Translate=False;&quot; CreateInProject=&quot;true&quot; CreatePackageConfiguration=&quot;false&quot; /&gt;&lt;Connection Name=&quot;SSIS_Data (SRV6)&quot; ConnectionString=&quot;Data Source=SRV6;Initial Catalog=SSIS_Data;Provider=SQL Server Native Client 11.0;Integrated Security=SSPI;Auto Translate=False;&quot; CreateInProject=&quot;true&quot; CreatePackageConfiguration=&quot;false&quot; /&gt;&lt;Connection Name=&quot;test_dst&quot; ConnectionString=&quot;Data Source=PC7;Initial Catalog=test_dst;Provider=SQL Server Native Client 11.0;Integrated Security=SSPI;Auto Translate=False;&quot; CreateInProject=&quot;true&quot; CreatePackageConfiguration=&quot;false&quot; /&gt;&lt;Connection Name=&quot;test_src&quot; ConnectionString=&quot;Data Source=SRV6;Initial Catalog=test_src;Provider=SQL Server Native Client 11.0;Integrated Security=SSPI;Auto Translate=False;&quot; CreateInProject=&quot;true&quot; CreatePackageConfiguration=&quot;false&quot; /&gt;&lt;/Connections&gt;</td></tr></table>"
                    },
                    "metadata": {}
                }
            ],
            "execution_count": 4
        },
        {
            "cell_type": "markdown",
            "source": [
                "## Step 3 - Add Connections to Project\n",
                "\n",
                "1.  Press F1, Select **bimlSnap: Open Forms**\n",
                "2.  Click **Connections**, and Choose **All Connections**\n",
                "3.  Select a Connection and Click **Add to Project**"
            ],
            "metadata": {
                "azdata_cell_guid": "d527c579-39a0-49ff-bc90-6bd554f4f429"
            }
        },
        {
            "cell_type": "markdown",
            "source": [
                "## Step 4 - Add a Dataflow Package\r\n",
                "\r\n",
                "1. Press F1, Select **bimlSnap: Open Forms**\r\n",
                "2. Click **Packages** and **Add Dataflow**"
            ],
            "metadata": {
                "azdata_cell_guid": "5fc444f6-f45e-4fbb-ae3c-90df55f027ed"
            }
        },
        {
            "cell_type": "code",
            "source": [
                "-- Dataflow Pattern Table\r\n",
                "\r\n",
                "SELECT * FROM [biml].[package_config (Data Flow)]"
            ],
            "metadata": {
                "azdata_cell_guid": "45488b4d-4b93-43f4-9da7-289b040fafbf",
                "tags": []
            },
            "outputs": [],
            "execution_count": null
        },
        {
            "cell_type": "markdown",
            "source": [
                "## Step 5 - Build Biml for Project\r\n",
                "\r\n",
                "1. Press F1, Select **bimlSnap: Open Forms**\r\n",
                "2. Select the **Project** and click **Build**\r\n",
                "3. Verify Visual Studio Project and Click **Copy**\r\n",
                "\r\n",
                "## Step 6 - Generate SSIS Packages (in Visual Studio)\r\n",
                "\r\n",
                "1. Right Click on BimlScript File, and click **Generate Packages**\r\n",
                "2. Run in Visual Studio\r\n",
                "\r\n",
                ""
            ],
            "metadata": {
                "azdata_cell_guid": "7b4d123f-b24d-4bcd-815d-abcb5d087ec7"
            }
        },
        {
            "cell_type": "code",
            "source": [
                "-- Examine Runtime Framework Tables\r\n",
                "\r\n",
                "SELECT * FROM [SSIS_Data].[dbo].[SSIS_batch_log] ORDER BY 1 DESC"
            ],
            "metadata": {
                "azdata_cell_guid": "1f6c7676-bcaf-42b6-bd96-a2cb2fc97fcf"
            },
            "outputs": [],
            "execution_count": null
        },
        {
            "cell_type": "code",
            "source": [
                "SELECT TOP 20 * FROM [SSIS_Data].[dbo].[SSIS_execution_log_history] ORDER BY 1 DESC"
            ],
            "metadata": {
                "azdata_cell_guid": "dfcd75bc-aec6-4314-bccc-8473e8a22b6c"
            },
            "outputs": [],
            "execution_count": null
        },
        {
            "cell_type": "markdown",
            "source": [
                "## Review Typical ELT Project: Metadata Refresh\n",
                "\n",
                "-   Updates a Datamart Containing Database Metadata\n",
                "-   Uses Merge Statement Code Generator"
            ],
            "metadata": {
                "azdata_cell_guid": "72393d51-640d-446e-a9af-cab3224f5588"
            }
        },
        {
            "cell_type": "markdown",
            "source": [
                "## "
            ],
            "metadata": {
                "azdata_cell_guid": "d8b41a15-0b57-4ee4-9e44-a450e6dde5ce"
            }
        },
        {
            "cell_type": "code",
            "source": [
                "-- Demo Clean-up\r\n",
                "\r\n",
                "DELETE [biml].[package_config (Data Flow)] WHERE [package_qualifier] like 'copy%'\r\n",
                "DELETE [biml].[connection] WHERE [connection_name] LIKE 'test%'\r\n",
                "DELETE [biml].[parameter] WHERE [parameter_name] LIKE 'test%'\r\n",
                "DELETE [biml].[project] WHERE [project_name] LIKE 'Demo%'"
            ],
            "metadata": {
                "azdata_cell_guid": "cb4f8ae6-f39f-4826-abb8-f1e4b6130f08",
                "tags": []
            },
            "outputs": [],
            "execution_count": null
        },
        {
            "cell_type": "markdown",
            "source": [
                "# Additional Demos\n",
                "\n",
                "1.  Build Project in EltSnap\n",
                "2.  Build Pipeline in Azure Data Factory with eltSnap"
            ],
            "metadata": {
                "azdata_cell_guid": "73dfbaba-ee24-4c3a-a5e5-64f605ddb32b"
            }
        },
        {
            "cell_type": "markdown",
            "source": [
                "# Framework Databases\r\n",
                "\r\n",
                "## EltSnap & BimlSnap\r\n",
                "\r\n",
                "## PowerBI Dashboard\r\n",
                "\r\n",
                "![Dashboard](resources\\dashboard.PNG))"
            ],
            "metadata": {
                "azdata_cell_guid": "bfae0d96-7a02-4d91-aeec-fabaf13ed042"
            }
        },
        {
            "cell_type": "markdown",
            "source": [
                "# Next Steps\n",
                "\n",
                "-   Visit [www.bitracks.com](http://www.bitracks.com/) and **download** BimlSnap and/or EltSnap\n",
                "-   Visit this Presentation on **GitHub**\n",
                "-   Contact us [info@bitracks.com](mailto:&#x69;&#110;&#102;&#x6f;&#x40;&#98;&#105;&#x74;&#114;&#97;&#99;&#x6b;&#115;&#46;&#99;&#x6f;&#109;) and let us know how we can help you get started\n",
                "-   Contact **Conor** at [cmuntin@bitracks.com](mailto:&#x63;&#x6d;&#117;&#110;&#116;&#105;&#x6e;&#64;&#x62;&#105;&#x74;&#114;&#97;&#99;&#x6b;&#x73;&#x2e;&#99;&#111;&#109;) and ask for a free copy of our book: [Hands-on Azure Data Studio](https://leanpub.com/hands-on-ads)"
            ],
            "metadata": {
                "azdata_cell_guid": "1a71be5b-25b3-4dfc-957d-4f1c40eb6897"
            }
        }
    ]
}